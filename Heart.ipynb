{
 "cells": [
  {
   "cell_type": "code",
   "execution_count": 268,
   "id": "e4b52cde",
   "metadata": {},
   "outputs": [],
   "source": [
    "rm(list=ls())\n",
    "library(caTools)\n",
    "heart <- read.table(\"~/Documentos/ufmg/2022-1/padrao/Bayes/code/Bayes/heart.dat\", header = FALSE)\n",
    "Y = as.matrix(heart[,14])\n",
    "X= as.matrix(heart[,1:13])\n",
    "\n",
    "qtdTrain = nrow(heart)*0.9\n",
    "sampleA = sample(nrow(heart))\n",
    "\n",
    "X_train = X[sampleA[0:qtdTrain],]\n",
    "Y_train = Y[sampleA[0:qtdTrain],]\n",
    "\n",
    "X_test = X[sampleA[qtdTrain:nrow(heart)],]\n",
    "Y_test = Y[sampleA[(nrow(heart)*0.9):(nrow(heart))],]\n"
   ]
  },
  {
   "cell_type": "code",
   "execution_count": 245,
   "id": "26c1a080",
   "metadata": {},
   "outputs": [],
   "source": [
    "pdf_nvar <- function(x, m, K, n){\n",
    "  #a <- ((1/(sqrt((2*pi)^n *(det(K)))))*exp(−0.5*(t(x−m) % * %(solve(K))% * %(x − m)))\n",
    "  a <- (1/(sqrt((2*pi)^n *(det(K)))))*exp(-0.5*(t(x-m) %*%(solve(K))%*%(x - m)))\n",
    "  return(a)\n",
    "}\n",
    "\n",
    "mC1 = colMeans(X_train[Y_train=='1',])\n",
    "nC1 = ncol(X_train[Y_train=='1',])\n",
    "KC1 = cov(X_train[Y_train=='1',])\n",
    "\n",
    "mC2 = colMeans(X_train[Y_train=='2',])\n",
    "nC2 = ncol(X_train[Y_train=='2',])\n",
    "KC2 = cov(X_train[Y_train=='2',])"
   ]
  },
  {
   "cell_type": "code",
   "execution_count": 246,
   "id": "1f1a0433",
   "metadata": {},
   "outputs": [],
   "source": [
    "#cbind(X_train[Y_train=='1',],Y_train[Y_train=='1'])"
   ]
  },
  {
   "cell_type": "code",
   "execution_count": 247,
   "id": "53aae992",
   "metadata": {},
   "outputs": [
    {
     "data": {
      "text/html": [
       "0.555555555555556"
      ],
      "text/latex": [
       "0.555555555555556"
      ],
      "text/markdown": [
       "0.555555555555556"
      ],
      "text/plain": [
       "[1] 0.5555556"
      ]
     },
     "metadata": {},
     "output_type": "display_data"
    },
    {
     "data": {
      "text/html": [
       "0.444444444444444"
      ],
      "text/latex": [
       "0.444444444444444"
      ],
      "text/markdown": [
       "0.444444444444444"
      ],
      "text/plain": [
       "[1] 0.4444444"
      ]
     },
     "metadata": {},
     "output_type": "display_data"
    }
   ],
   "source": [
    "PC1  = (dim(X_train[Y_train=='1',])[1])/(dim(X_train[Y_train=='1',])[1] + dim(X_train[Y_train=='2',])[1])\n",
    "PC2  = (dim(X_train[Y_train=='2',])[1])/(dim(X_train[Y_train=='1',])[1] + dim(X_train[Y_train=='2',])[1])\n",
    "\n",
    "PC1\n",
    "PC2"
   ]
  },
  {
   "cell_type": "code",
   "execution_count": 248,
   "id": "0ba22ce2",
   "metadata": {},
   "outputs": [],
   "source": [
    "classeAprox = matrix(0, ncol = dim(X_test)[1])\n",
    "\n",
    "for(i in 1:nrow(X_test)){\n",
    "    probC1 = pdf_nvar(X_test[i,], mC1,KC1,nC1)\n",
    "    probC2 = pdf_nvar(X_test[i,], mC2,KC2,nC2)\n",
    "    \n",
    "    K = (probC1 *PC1)/(probC2 *PC2)\n",
    "    \n",
    "    if (K >= 1) \n",
    "        classeAprox[i] = 1\n",
    "    else\n",
    "        classeAprox[i] = 2\n",
    "}"
   ]
  },
  {
   "cell_type": "code",
   "execution_count": 250,
   "id": "e4f78b50",
   "metadata": {},
   "outputs": [
    {
     "data": {
      "text/html": [
       "<table>\n",
       "<tbody>\n",
       "\t<tr><td>1  </td><td>1  </td><td>2  </td><td>1  </td><td>1  </td><td>2  </td><td>2  </td><td>1  </td><td>2  </td><td>1  </td><td>...</td><td>1  </td><td>2  </td><td>2  </td><td>2  </td><td>2  </td><td>1  </td><td>1  </td><td>1  </td><td>1  </td><td>2  </td></tr>\n",
       "</tbody>\n",
       "</table>\n"
      ],
      "text/latex": [
       "\\begin{tabular}{llllllllllllllllllllllllllll}\n",
       "\t 1   & 1   & 2   & 1   & 1   & 2   & 2   & 1   & 2   & 1   & ... & 1   & 2   & 2   & 2   & 2   & 1   & 1   & 1   & 1   & 2  \\\\\n",
       "\\end{tabular}\n"
      ],
      "text/markdown": [
       "\n",
       "| 1   | 1   | 2   | 1   | 1   | 2   | 2   | 1   | 2   | 1   | ... | 1   | 2   | 2   | 2   | 2   | 1   | 1   | 1   | 1   | 2   |\n",
       "\n"
      ],
      "text/plain": [
       "     [,1] [,2] [,3] [,4] [,5] [,6] [,7] [,8] [,9] [,10] [,11] [,12] [,13] [,14]\n",
       "[1,] 1    1    2    1    1    2    2    1    2    1     ...   1     2     2    \n",
       "     [,15] [,16] [,17] [,18] [,19] [,20] [,21]\n",
       "[1,] 2     2     1     1     1     1     2    "
      ]
     },
     "metadata": {},
     "output_type": "display_data"
    },
    {
     "data": {
      "text/html": [
       "<table>\n",
       "<tbody>\n",
       "\t<tr><td>1  </td><td>1  </td><td>2  </td><td>1  </td><td>1  </td><td>1  </td><td>2  </td><td>1  </td><td>2  </td><td>2  </td><td>...</td><td>1  </td><td>2  </td><td>2  </td><td>2  </td><td>1  </td><td>1  </td><td>1  </td><td>1  </td><td>1  </td><td>2  </td></tr>\n",
       "</tbody>\n",
       "</table>\n"
      ],
      "text/latex": [
       "\\begin{tabular}{llllllllllllllllllllllllllll}\n",
       "\t 1   & 1   & 2   & 1   & 1   & 1   & 2   & 1   & 2   & 2   & ... & 1   & 2   & 2   & 2   & 1   & 1   & 1   & 1   & 1   & 2  \\\\\n",
       "\\end{tabular}\n"
      ],
      "text/markdown": [
       "\n",
       "| 1   | 1   | 2   | 1   | 1   | 1   | 2   | 1   | 2   | 2   | ... | 1   | 2   | 2   | 2   | 1   | 1   | 1   | 1   | 1   | 2   |\n",
       "\n"
      ],
      "text/plain": [
       "     [,1] [,2] [,3] [,4] [,5] [,6] [,7] [,8] [,9] [,10] [,11] [,12] [,13] [,14]\n",
       "[1,] 1    1    2    1    1    1    2    1    2    2     ...   1     2     2    \n",
       "     [,15] [,16] [,17] [,18] [,19] [,20] [,21]\n",
       "[1,] 2     1     1     1     1     1     2    "
      ]
     },
     "metadata": {},
     "output_type": "display_data"
    }
   ],
   "source": [
    "t(matrix(Y_test))\n",
    "t(matrix(classeAprox))"
   ]
  },
  {
   "cell_type": "code",
   "execution_count": 251,
   "id": "6a12a2b6",
   "metadata": {},
   "outputs": [
    {
     "data": {
      "text/plain": [
       "      Predicted\n",
       "Actual  1  2\n",
       "     1 14  2\n",
       "     2  3  9"
      ]
     },
     "metadata": {},
     "output_type": "display_data"
    }
   ],
   "source": [
    "cmTest = as.matrix(table(Actual = Y_test, Predicted = classeAprox)) # create the confusion matrix\n",
    "cmTest"
   ]
  },
  {
   "cell_type": "code",
   "execution_count": 252,
   "id": "6a637821",
   "metadata": {},
   "outputs": [],
   "source": [
    "n = sum(cmTest)\n",
    "diag = diag(cmTest)\n",
    "acuraciaTest = sum(diag) / n "
   ]
  },
  {
   "cell_type": "code",
   "execution_count": 253,
   "id": "d0234531",
   "metadata": {},
   "outputs": [
    {
     "data": {
      "text/html": [
       "0.821428571428571"
      ],
      "text/latex": [
       "0.821428571428571"
      ],
      "text/markdown": [
       "0.821428571428571"
      ],
      "text/plain": [
       "[1] 0.8214286"
      ]
     },
     "metadata": {},
     "output_type": "display_data"
    }
   ],
   "source": [
    "acuraciaTest"
   ]
  },
  {
   "cell_type": "markdown",
   "id": "6d672aec",
   "metadata": {},
   "source": [
    "# Segundo parte(alterando a amostra de treinamento para 70%)"
   ]
  },
  {
   "cell_type": "code",
   "execution_count": 260,
   "id": "f52473bb",
   "metadata": {},
   "outputs": [
    {
     "data": {
      "text/plain": [
       "      Predicted\n",
       "Actual  1  2\n",
       "     1 41  9\n",
       "     2  7 25"
      ]
     },
     "metadata": {},
     "output_type": "display_data"
    }
   ],
   "source": [
    "qtdTrain = nrow(heart)*0.7\n",
    "sampleA = sample(nrow(heart))\n",
    "\n",
    "X_train = X[sampleA[0:qtdTrain],]\n",
    "Y_train = Y[sampleA[0:qtdTrain],]\n",
    "\n",
    "X_test = X[sampleA[qtdTrain:nrow(heart)],]\n",
    "Y_test = Y[sampleA[(nrow(heart)*0.7):(nrow(heart))],]\n",
    "mC1 = colMeans(X_train[Y_train=='1',])\n",
    "nC1 = ncol(X_train[Y_train=='1',])\n",
    "KC1 = cov(X_train[Y_train=='1',])\n",
    "\n",
    "mC2 = colMeans(X_train[Y_train=='2',])\n",
    "nC2 = ncol(X_train[Y_train=='2',])\n",
    "KC2 = cov(X_train[Y_train=='2',])\n",
    "PC1  = (dim(X_train[Y_train=='1',])[1])/(dim(X_train[Y_train=='1',])[1] + dim(X_train[Y_train=='2',])[1])\n",
    "PC2  = (dim(X_train[Y_train=='2',])[1])/(dim(X_train[Y_train=='1',])[1] + dim(X_train[Y_train=='2',])[1])\n",
    "\n",
    "classeAprox = matrix(0, ncol = dim(X_test)[1])\n",
    "\n",
    "for(i in 1:nrow(X_test)){\n",
    "    probC1 = pdf_nvar(X_test[i,], mC1,KC1,nC1)\n",
    "    probC2 = pdf_nvar(X_test[i,], mC2,KC2,nC2)\n",
    "    \n",
    "    K = (probC1 *PC1)/(probC2 *PC2)\n",
    "    \n",
    "    if (K >= 1) \n",
    "        classeAprox[i] = 1\n",
    "    else\n",
    "        classeAprox[i] = 2\n",
    "}\n",
    "cmTest = as.matrix(table(Actual = Y_test, Predicted = classeAprox)) # create the confusion matrix\n",
    "cmTest"
   ]
  },
  {
   "cell_type": "code",
   "execution_count": 261,
   "id": "4c1b07ea",
   "metadata": {},
   "outputs": [
    {
     "data": {
      "text/html": [
       "0.804878048780488"
      ],
      "text/latex": [
       "0.804878048780488"
      ],
      "text/markdown": [
       "0.804878048780488"
      ],
      "text/plain": [
       "[1] 0.804878"
      ]
     },
     "metadata": {},
     "output_type": "display_data"
    }
   ],
   "source": [
    "n = sum(cmTest)\n",
    "diag = diag(cmTest)\n",
    "acuraciaTest = sum(diag) / n \n",
    "acuraciaTest"
   ]
  },
  {
   "cell_type": "markdown",
   "id": "ace0d4ba",
   "metadata": {},
   "source": [
    "# Terceira parte(alterando a amostra de treinamento para 20%)"
   ]
  },
  {
   "cell_type": "code",
   "execution_count": 266,
   "id": "9d303c09",
   "metadata": {},
   "outputs": [
    {
     "data": {
      "text/plain": [
       "      Predicted\n",
       "Actual  1  2\n",
       "     1 93 28\n",
       "     2 18 78"
      ]
     },
     "metadata": {},
     "output_type": "display_data"
    }
   ],
   "source": [
    "qtdTrain = nrow(heart)*0.2\n",
    "sampleA = sample(nrow(heart))\n",
    "\n",
    "X_train = X[sampleA[0:qtdTrain],]\n",
    "Y_train = Y[sampleA[0:qtdTrain],]\n",
    "\n",
    "X_test = X[sampleA[qtdTrain:nrow(heart)],]\n",
    "Y_test = Y[sampleA[(nrow(heart)*0.2):(nrow(heart))],]\n",
    "mC1 = colMeans(X_train[Y_train=='1',])\n",
    "nC1 = ncol(X_train[Y_train=='1',])\n",
    "KC1 = cov(X_train[Y_train=='1',])\n",
    "\n",
    "mC2 = colMeans(X_train[Y_train=='2',])\n",
    "nC2 = ncol(X_train[Y_train=='2',])\n",
    "KC2 = cov(X_train[Y_train=='2',])\n",
    "PC1  = (dim(X_train[Y_train=='1',])[1])/(dim(X_train[Y_train=='1',])[1] + dim(X_train[Y_train=='2',])[1])\n",
    "PC2  = (dim(X_train[Y_train=='2',])[1])/(dim(X_train[Y_train=='1',])[1] + dim(X_train[Y_train=='2',])[1])\n",
    "\n",
    "classeAprox = matrix(0, ncol = dim(X_test)[1])\n",
    "\n",
    "for(i in 1:nrow(X_test)){\n",
    "    probC1 = pdf_nvar(X_test[i,], mC1,KC1,nC1)\n",
    "    probC2 = pdf_nvar(X_test[i,], mC2,KC2,nC2)\n",
    "    \n",
    "    K = (probC1 *PC1)/(probC2 *PC2)\n",
    "    \n",
    "    if (K >= 1) \n",
    "        classeAprox[i] = 1\n",
    "    else\n",
    "        classeAprox[i] = 2\n",
    "}\n",
    "cmTest = as.matrix(table(Actual = Y_test, Predicted = classeAprox)) # create the confusion matrix\n",
    "cmTest"
   ]
  },
  {
   "cell_type": "code",
   "execution_count": 267,
   "id": "ce8529b8",
   "metadata": {},
   "outputs": [
    {
     "data": {
      "text/html": [
       "0.788018433179724"
      ],
      "text/latex": [
       "0.788018433179724"
      ],
      "text/markdown": [
       "0.788018433179724"
      ],
      "text/plain": [
       "[1] 0.7880184"
      ]
     },
     "metadata": {},
     "output_type": "display_data"
    }
   ],
   "source": [
    "n = sum(cmTest)\n",
    "diag = diag(cmTest)\n",
    "acuraciaTest = sum(diag) / n \n",
    "acuraciaTest"
   ]
  }
 ],
 "metadata": {
  "kernelspec": {
   "display_name": "R",
   "language": "R",
   "name": "ir"
  },
  "language_info": {
   "codemirror_mode": "r",
   "file_extension": ".r",
   "mimetype": "text/x-r-source",
   "name": "R",
   "pygments_lexer": "r",
   "version": "3.6.1"
  }
 },
 "nbformat": 4,
 "nbformat_minor": 5
}
