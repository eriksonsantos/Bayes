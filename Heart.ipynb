{
 "cells": [
  {
   "cell_type": "code",
   "execution_count": 7,
   "id": "8f6267bf",
   "metadata": {},
   "outputs": [],
   "source": [
    "rm(list=ls())\n",
    "library(caTools)\n",
    "heart <- read.table(\"./heart.dat\", header = FALSE)\n",
    "Y = as.matrix(heart[,14])\n",
    "X= as.matrix(heart[,1:13])\n",
    "\n",
    "qtdTrain = nrow(heart)*0.9\n",
    "sampleA = sample(nrow(heart))\n",
    "\n",
    "X_train = X[sampleA[0:qtdTrain],]\n",
    "Y_train = Y[sampleA[0:qtdTrain],]\n",
    "\n",
    "X_test = X[sampleA[qtdTrain:nrow(heart)],]\n",
    "Y_test = Y[sampleA[(nrow(heart)*0.9):(nrow(heart))],]\n"
   ]
  },
  {
   "cell_type": "code",
   "execution_count": 8,
   "id": "d8d1d979",
   "metadata": {},
   "outputs": [],
   "source": [
    "pdf_nvar <- function(x, m, K, n){\n",
    "  #a <- ((1/(sqrt((2*pi)^n *(det(K)))))*exp(−0.5*(t(x−m) % * %(solve(K))% * %(x − m)))\n",
    "  a <- (1/(sqrt((2*pi)^n *(det(K)))))*exp(-0.5*(t(x-m) %*%(solve(K))%*%(x - m)))\n",
    "  return(a)\n",
    "}\n",
    "\n",
    "mC1 = colMeans(X_train[Y_train=='1',])\n",
    "nC1 = ncol(X_train[Y_train=='1',])\n",
    "KC1 = cov(X_train[Y_train=='1',])\n",
    "\n",
    "mC2 = colMeans(X_train[Y_train=='2',])\n",
    "nC2 = ncol(X_train[Y_train=='2',])\n",
    "KC2 = cov(X_train[Y_train=='2',])"
   ]
  },
  {
   "cell_type": "code",
   "execution_count": 9,
   "id": "20bb5fe6",
   "metadata": {},
   "outputs": [],
   "source": [
    "#cbind(X_train[Y_train=='1',],Y_train[Y_train=='1'])"
   ]
  },
  {
   "cell_type": "code",
   "execution_count": 10,
   "id": "37e1dd29",
   "metadata": {},
   "outputs": [
    {
     "data": {
      "text/html": [
       "0.559670781893004"
      ],
      "text/latex": [
       "0.559670781893004"
      ],
      "text/markdown": [
       "0.559670781893004"
      ],
      "text/plain": [
       "[1] 0.5596708"
      ]
     },
     "metadata": {},
     "output_type": "display_data"
    },
    {
     "data": {
      "text/html": [
       "0.440329218106996"
      ],
      "text/latex": [
       "0.440329218106996"
      ],
      "text/markdown": [
       "0.440329218106996"
      ],
      "text/plain": [
       "[1] 0.4403292"
      ]
     },
     "metadata": {},
     "output_type": "display_data"
    }
   ],
   "source": [
    "PC1  = (dim(X_train[Y_train=='1',])[1])/(dim(X_train[Y_train=='1',])[1] + dim(X_train[Y_train=='2',])[1])\n",
    "PC2  = (dim(X_train[Y_train=='2',])[1])/(dim(X_train[Y_train=='1',])[1] + dim(X_train[Y_train=='2',])[1])\n",
    "\n",
    "PC1\n",
    "PC2"
   ]
  },
  {
   "cell_type": "code",
   "execution_count": 11,
   "id": "349c2c70",
   "metadata": {},
   "outputs": [],
   "source": [
    "classeAprox = matrix(0, ncol = dim(X_test)[1])\n",
    "\n",
    "for(i in 1:nrow(X_test)){\n",
    "    probC1 = pdf_nvar(X_test[i,], mC1,KC1,nC1)\n",
    "    probC2 = pdf_nvar(X_test[i,], mC2,KC2,nC2)\n",
    "    \n",
    "    K = (probC1 *PC1)/(probC2 *PC2)\n",
    "    \n",
    "    if (K >= 1) \n",
    "        classeAprox[i] = 1\n",
    "    else\n",
    "        classeAprox[i] = 2\n",
    "}"
   ]
  },
  {
   "cell_type": "code",
   "execution_count": 12,
   "id": "adc0fc1a",
   "metadata": {},
   "outputs": [
    {
     "data": {
      "text/html": [
       "<table>\n",
       "<tbody>\n",
       "\t<tr><td>2  </td><td>2  </td><td>1  </td><td>1  </td><td>2  </td><td>2  </td><td>1  </td><td>1  </td><td>2  </td><td>2  </td><td>...</td><td>2  </td><td>1  </td><td>2  </td><td>2  </td><td>2  </td><td>2  </td><td>1  </td><td>2  </td><td>1  </td><td>1  </td></tr>\n",
       "</tbody>\n",
       "</table>\n"
      ],
      "text/latex": [
       "\\begin{tabular}{llllllllllllllllllllllllllll}\n",
       "\t 2   & 2   & 1   & 1   & 2   & 2   & 1   & 1   & 2   & 2   & ... & 2   & 1   & 2   & 2   & 2   & 2   & 1   & 2   & 1   & 1  \\\\\n",
       "\\end{tabular}\n"
      ],
      "text/markdown": [
       "\n",
       "| 2   | 2   | 1   | 1   | 2   | 2   | 1   | 1   | 2   | 2   | ... | 2   | 1   | 2   | 2   | 2   | 2   | 1   | 2   | 1   | 1   |\n",
       "\n"
      ],
      "text/plain": [
       "     [,1] [,2] [,3] [,4] [,5] [,6] [,7] [,8] [,9] [,10] [,11] [,12] [,13] [,14]\n",
       "[1,] 2    2    1    1    2    2    1    1    2    2     ...   2     1     2    \n",
       "     [,15] [,16] [,17] [,18] [,19] [,20] [,21]\n",
       "[1,] 2     2     2     1     2     1     1    "
      ]
     },
     "metadata": {},
     "output_type": "display_data"
    },
    {
     "data": {
      "text/html": [
       "<table>\n",
       "<tbody>\n",
       "\t<tr><td>1  </td><td>2  </td><td>1  </td><td>1  </td><td>2  </td><td>2  </td><td>1  </td><td>1  </td><td>2  </td><td>2  </td><td>...</td><td>1  </td><td>1  </td><td>2  </td><td>2  </td><td>1  </td><td>2  </td><td>1  </td><td>2  </td><td>1  </td><td>1  </td></tr>\n",
       "</tbody>\n",
       "</table>\n"
      ],
      "text/latex": [
       "\\begin{tabular}{llllllllllllllllllllllllllll}\n",
       "\t 1   & 2   & 1   & 1   & 2   & 2   & 1   & 1   & 2   & 2   & ... & 1   & 1   & 2   & 2   & 1   & 2   & 1   & 2   & 1   & 1  \\\\\n",
       "\\end{tabular}\n"
      ],
      "text/markdown": [
       "\n",
       "| 1   | 2   | 1   | 1   | 2   | 2   | 1   | 1   | 2   | 2   | ... | 1   | 1   | 2   | 2   | 1   | 2   | 1   | 2   | 1   | 1   |\n",
       "\n"
      ],
      "text/plain": [
       "     [,1] [,2] [,3] [,4] [,5] [,6] [,7] [,8] [,9] [,10] [,11] [,12] [,13] [,14]\n",
       "[1,] 1    2    1    1    2    2    1    1    2    2     ...   1     1     2    \n",
       "     [,15] [,16] [,17] [,18] [,19] [,20] [,21]\n",
       "[1,] 2     1     2     1     2     1     1    "
      ]
     },
     "metadata": {},
     "output_type": "display_data"
    }
   ],
   "source": [
    "t(matrix(Y_test))\n",
    "t(matrix(classeAprox))"
   ]
  },
  {
   "cell_type": "code",
   "execution_count": 13,
   "id": "eff35f67",
   "metadata": {},
   "outputs": [
    {
     "data": {
      "text/plain": [
       "      Predicted\n",
       "Actual  1  2\n",
       "     1 14  0\n",
       "     2  4 10"
      ]
     },
     "metadata": {},
     "output_type": "display_data"
    }
   ],
   "source": [
    "cmTest = as.matrix(table(Actual = Y_test, Predicted = classeAprox)) # create the confusion matrix\n",
    "cmTest"
   ]
  },
  {
   "cell_type": "code",
   "execution_count": 14,
   "id": "841243bf",
   "metadata": {},
   "outputs": [],
   "source": [
    "n = sum(cmTest)\n",
    "diag = diag(cmTest)\n",
    "acuraciaTest = sum(diag) / n "
   ]
  },
  {
   "cell_type": "code",
   "execution_count": 15,
   "id": "a08d891c",
   "metadata": {},
   "outputs": [
    {
     "data": {
      "text/html": [
       "0.857142857142857"
      ],
      "text/latex": [
       "0.857142857142857"
      ],
      "text/markdown": [
       "0.857142857142857"
      ],
      "text/plain": [
       "[1] 0.8571429"
      ]
     },
     "metadata": {},
     "output_type": "display_data"
    }
   ],
   "source": [
    "acuraciaTest"
   ]
  },
  {
   "cell_type": "markdown",
   "id": "a23e2e6e",
   "metadata": {},
   "source": [
    "# Segundo parte(alterando a amostra de treinamento para 70%)"
   ]
  },
  {
   "cell_type": "code",
   "execution_count": 16,
   "id": "9d8066f1",
   "metadata": {},
   "outputs": [
    {
     "data": {
      "text/plain": [
       "      Predicted\n",
       "Actual  1  2\n",
       "     1 38  5\n",
       "     2 12 27"
      ]
     },
     "metadata": {},
     "output_type": "display_data"
    }
   ],
   "source": [
    "qtdTrain = nrow(heart)*0.7\n",
    "sampleA = sample(nrow(heart))\n",
    "\n",
    "X_train = X[sampleA[0:qtdTrain],]\n",
    "Y_train = Y[sampleA[0:qtdTrain],]\n",
    "\n",
    "X_test = X[sampleA[qtdTrain:nrow(heart)],]\n",
    "Y_test = Y[sampleA[(nrow(heart)*0.7):(nrow(heart))],]\n",
    "mC1 = colMeans(X_train[Y_train=='1',])\n",
    "nC1 = ncol(X_train[Y_train=='1',])\n",
    "KC1 = cov(X_train[Y_train=='1',])\n",
    "\n",
    "mC2 = colMeans(X_train[Y_train=='2',])\n",
    "nC2 = ncol(X_train[Y_train=='2',])\n",
    "KC2 = cov(X_train[Y_train=='2',])\n",
    "PC1  = (dim(X_train[Y_train=='1',])[1])/(dim(X_train[Y_train=='1',])[1] + dim(X_train[Y_train=='2',])[1])\n",
    "PC2  = (dim(X_train[Y_train=='2',])[1])/(dim(X_train[Y_train=='1',])[1] + dim(X_train[Y_train=='2',])[1])\n",
    "\n",
    "classeAprox = matrix(0, ncol = dim(X_test)[1])\n",
    "\n",
    "for(i in 1:nrow(X_test)){\n",
    "    probC1 = pdf_nvar(X_test[i,], mC1,KC1,nC1)\n",
    "    probC2 = pdf_nvar(X_test[i,], mC2,KC2,nC2)\n",
    "    \n",
    "    K = (probC1 *PC1)/(probC2 *PC2)\n",
    "    \n",
    "    if (K >= 1) \n",
    "        classeAprox[i] = 1\n",
    "    else\n",
    "        classeAprox[i] = 2\n",
    "}\n",
    "cmTest = as.matrix(table(Actual = Y_test, Predicted = classeAprox)) # create the confusion matrix\n",
    "cmTest"
   ]
  },
  {
   "cell_type": "code",
   "execution_count": 17,
   "id": "41f5baf8",
   "metadata": {},
   "outputs": [
    {
     "data": {
      "text/html": [
       "0.571428571428571"
      ],
      "text/latex": [
       "0.571428571428571"
      ],
      "text/markdown": [
       "0.571428571428571"
      ],
      "text/plain": [
       "[1] 0.5714286"
      ]
     },
     "metadata": {},
     "output_type": "display_data"
    },
    {
     "data": {
      "text/html": [
       "0.428571428571429"
      ],
      "text/latex": [
       "0.428571428571429"
      ],
      "text/markdown": [
       "0.428571428571429"
      ],
      "text/plain": [
       "[1] 0.4285714"
      ]
     },
     "metadata": {},
     "output_type": "display_data"
    }
   ],
   "source": [
    "PC1\n",
    "PC2"
   ]
  },
  {
   "cell_type": "code",
   "execution_count": 18,
   "id": "f25fb752",
   "metadata": {},
   "outputs": [
    {
     "data": {
      "text/html": [
       "0.792682926829268"
      ],
      "text/latex": [
       "0.792682926829268"
      ],
      "text/markdown": [
       "0.792682926829268"
      ],
      "text/plain": [
       "[1] 0.7926829"
      ]
     },
     "metadata": {},
     "output_type": "display_data"
    }
   ],
   "source": [
    "n = sum(cmTest)\n",
    "diag = diag(cmTest)\n",
    "acuraciaTest = sum(diag) / n \n",
    "acuraciaTest"
   ]
  },
  {
   "cell_type": "markdown",
   "id": "425f9469",
   "metadata": {},
   "source": [
    "# Terceira parte(alterando a amostra de treinamento para 20%)"
   ]
  },
  {
   "cell_type": "code",
   "execution_count": 19,
   "id": "76e92d2d",
   "metadata": {},
   "outputs": [
    {
     "data": {
      "text/plain": [
       "      Predicted\n",
       "Actual   1   2\n",
       "     1 102  18\n",
       "     2  47  50"
      ]
     },
     "metadata": {},
     "output_type": "display_data"
    }
   ],
   "source": [
    "qtdTrain = nrow(heart)*0.2\n",
    "sampleA = sample(nrow(heart))\n",
    "\n",
    "X_train = X[sampleA[0:qtdTrain],]\n",
    "Y_train = Y[sampleA[0:qtdTrain],]\n",
    "\n",
    "X_test = X[sampleA[qtdTrain:nrow(heart)],]\n",
    "Y_test = Y[sampleA[(nrow(heart)*0.2):(nrow(heart))],]\n",
    "mC1 = colMeans(X_train[Y_train=='1',])\n",
    "nC1 = ncol(X_train[Y_train=='1',])\n",
    "KC1 = cov(X_train[Y_train=='1',])\n",
    "\n",
    "mC2 = colMeans(X_train[Y_train=='2',])\n",
    "nC2 = ncol(X_train[Y_train=='2',])\n",
    "KC2 = cov(X_train[Y_train=='2',])\n",
    "PC1  = (dim(X_train[Y_train=='1',])[1])/(dim(X_train[Y_train=='1',])[1] + dim(X_train[Y_train=='2',])[1])\n",
    "PC2  = (dim(X_train[Y_train=='2',])[1])/(dim(X_train[Y_train=='1',])[1] + dim(X_train[Y_train=='2',])[1])\n",
    "\n",
    "classeAprox = matrix(0, ncol = dim(X_test)[1])\n",
    "\n",
    "for(i in 1:nrow(X_test)){\n",
    "    probC1 = pdf_nvar(X_test[i,], mC1,KC1,nC1)\n",
    "    probC2 = pdf_nvar(X_test[i,], mC2,KC2,nC2)\n",
    "    \n",
    "    K = (probC1 *PC1)/(probC2 *PC2)\n",
    "    \n",
    "    if (K >= 1) \n",
    "        classeAprox[i] = 1\n",
    "    else\n",
    "        classeAprox[i] = 2\n",
    "}\n",
    "cmTest = as.matrix(table(Actual = Y_test, Predicted = classeAprox)) # create the confusion matrix\n",
    "cmTest"
   ]
  },
  {
   "cell_type": "code",
   "execution_count": 20,
   "id": "9b330f5d",
   "metadata": {},
   "outputs": [
    {
     "data": {
      "text/html": [
       "0.555555555555556"
      ],
      "text/latex": [
       "0.555555555555556"
      ],
      "text/markdown": [
       "0.555555555555556"
      ],
      "text/plain": [
       "[1] 0.5555556"
      ]
     },
     "metadata": {},
     "output_type": "display_data"
    },
    {
     "data": {
      "text/html": [
       "0.444444444444444"
      ],
      "text/latex": [
       "0.444444444444444"
      ],
      "text/markdown": [
       "0.444444444444444"
      ],
      "text/plain": [
       "[1] 0.4444444"
      ]
     },
     "metadata": {},
     "output_type": "display_data"
    }
   ],
   "source": [
    "PC1\n",
    "PC2"
   ]
  },
  {
   "cell_type": "code",
   "execution_count": 21,
   "id": "447a5dba",
   "metadata": {},
   "outputs": [
    {
     "data": {
      "text/html": [
       "0.700460829493088"
      ],
      "text/latex": [
       "0.700460829493088"
      ],
      "text/markdown": [
       "0.700460829493088"
      ],
      "text/plain": [
       "[1] 0.7004608"
      ]
     },
     "metadata": {},
     "output_type": "display_data"
    }
   ],
   "source": [
    "n = sum(cmTest)\n",
    "diag = diag(cmTest)\n",
    "acuraciaTest = sum(diag) / n \n",
    "acuraciaTest"
   ]
  },
  {
   "cell_type": "code",
   "execution_count": null,
   "id": "c384e352",
   "metadata": {},
   "outputs": [],
   "source": []
  }
 ],
 "metadata": {
  "kernelspec": {
   "display_name": "R",
   "language": "R",
   "name": "ir"
  },
  "language_info": {
   "codemirror_mode": "r",
   "file_extension": ".r",
   "mimetype": "text/x-r-source",
   "name": "R",
   "pygments_lexer": "r",
   "version": "3.6.1"
  }
 },
 "nbformat": 4,
 "nbformat_minor": 5
}
