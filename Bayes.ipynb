{
 "cells": [
  {
   "cell_type": "code",
   "execution_count": 49,
   "id": "cc31a158",
   "metadata": {},
   "outputs": [],
   "source": [
    "import matplotlib.pyplot as plt\n",
    "import tensorflow as tf\n",
    "from sklearn.model_selection import train_test_split\n",
    "import numpy as np\n",
    "import pandas as pd\n",
    "import plotly.graph_objects as go\n",
    "import plotly.express as px"
   ]
  },
  {
   "cell_type": "code",
   "execution_count": 50,
   "id": "5287bbe3",
   "metadata": {},
   "outputs": [],
   "source": [
    "from sklearn.metrics import accuracy_score"
   ]
  },
  {
   "cell_type": "code",
   "execution_count": 98,
   "id": "f5230e8b",
   "metadata": {},
   "outputs": [],
   "source": [
    "X1 = np.random.normal(loc=2,scale=0.5, size=(100))\n",
    "y1 = np.random.normal(loc=2,scale=0.5,size=(100))\n",
    "\n",
    "X2 = np.random.normal(loc=4,scale=0.5, size=(100))\n",
    "y2 = np.random.normal(loc=4,scale=0.5,size=(100))"
   ]
  },
  {
   "cell_type": "code",
   "execution_count": 99,
   "id": "b6d1d499",
   "metadata": {},
   "outputs": [
    {
     "data": {
      "text/plain": [
       "<matplotlib.legend.Legend at 0x7fb11c2d3880>"
      ]
     },
     "execution_count": 99,
     "metadata": {},
     "output_type": "execute_result"
    },
    {
     "data": {
      "image/png": "[encoded data removed]",
      "text/plain": [
       "<Figure size 432x288 with 1 Axes>"
      ]
     },
     "metadata": {
      "needs_background": "light"
     },
     "output_type": "display_data"
    }
   ],
   "source": [
    "plt.scatter(X1,y1, color='red', label='Classe 1')\n",
    "plt.scatter(X2,y2, color='blue', label='Classe 2')\n",
    "plt.xlabel('Eixo X')\n",
    "plt.ylabel('Eixo y')\n",
    "plt.legend()"
   ]
  },
  {
   "cell_type": "code",
   "execution_count": 100,
   "id": "b2ed1e68",
   "metadata": {},
   "outputs": [],
   "source": [
    "X = np.zeros((200,3))\n",
    "X[:,0] = np.append(X1,X2)\n",
    "X[:,1] = np.append(y1,y2)\n",
    "f = lambda i:1 if i <100 else 2 \n",
    "classe = [f(i) for i in range(200)]\n",
    "X[:,2] = classe"
   ]
  },
  {
   "cell_type": "code",
   "execution_count": 101,
   "id": "ffad0ade",
   "metadata": {},
   "outputs": [],
   "source": [
    "X = pd.DataFrame(X)"
   ]
  },
  {
   "cell_type": "code",
   "execution_count": 102,
   "id": "1971776e",
   "metadata": {},
   "outputs": [
    {
     "data": {
      "text/html": [
       "<div>\n",
       "<style scoped>\n",
       "    .dataframe tbody tr th:only-of-type {\n",
       "        vertical-align: middle;\n",
       "    }\n",
       "\n",
       "    .dataframe tbody tr th {\n",
       "        vertical-align: top;\n",
       "    }\n",
       "\n",
       "    .dataframe thead th {\n",
       "        text-align: right;\n",
       "    }\n",
       "</style>\n",
       "<table border=\"1\" class=\"dataframe\">\n",
       "  <thead>\n",
       "    <tr style=\"text-align: right;\">\n",
       "      <th></th>\n",
       "      <th>X1</th>\n",
       "      <th>X2</th>\n",
       "      <th>Classe</th>\n",
       "    </tr>\n",
       "  </thead>\n",
       "  <tbody>\n",
       "    <tr>\n",
       "      <th>0</th>\n",
       "      <td>2.197629</td>\n",
       "      <td>3.243409</td>\n",
       "      <td>1.0</td>\n",
       "    </tr>\n",
       "    <tr>\n",
       "      <th>1</th>\n",
       "      <td>1.845987</td>\n",
       "      <td>2.070918</td>\n",
       "      <td>1.0</td>\n",
       "    </tr>\n",
       "    <tr>\n",
       "      <th>2</th>\n",
       "      <td>1.654526</td>\n",
       "      <td>1.583036</td>\n",
       "      <td>1.0</td>\n",
       "    </tr>\n",
       "    <tr>\n",
       "      <th>3</th>\n",
       "      <td>1.634602</td>\n",
       "      <td>1.935072</td>\n",
       "      <td>1.0</td>\n",
       "    </tr>\n",
       "    <tr>\n",
       "      <th>4</th>\n",
       "      <td>2.714994</td>\n",
       "      <td>1.476406</td>\n",
       "      <td>1.0</td>\n",
       "    </tr>\n",
       "    <tr>\n",
       "      <th>...</th>\n",
       "      <td>...</td>\n",
       "      <td>...</td>\n",
       "      <td>...</td>\n",
       "    </tr>\n",
       "    <tr>\n",
       "      <th>195</th>\n",
       "      <td>3.714006</td>\n",
       "      <td>3.916672</td>\n",
       "      <td>2.0</td>\n",
       "    </tr>\n",
       "    <tr>\n",
       "      <th>196</th>\n",
       "      <td>4.052655</td>\n",
       "      <td>4.292886</td>\n",
       "      <td>2.0</td>\n",
       "    </tr>\n",
       "    <tr>\n",
       "      <th>197</th>\n",
       "      <td>3.806286</td>\n",
       "      <td>3.354130</td>\n",
       "      <td>2.0</td>\n",
       "    </tr>\n",
       "    <tr>\n",
       "      <th>198</th>\n",
       "      <td>2.659180</td>\n",
       "      <td>4.119112</td>\n",
       "      <td>2.0</td>\n",
       "    </tr>\n",
       "    <tr>\n",
       "      <th>199</th>\n",
       "      <td>4.700047</td>\n",
       "      <td>4.155188</td>\n",
       "      <td>2.0</td>\n",
       "    </tr>\n",
       "  </tbody>\n",
       "</table>\n",
       "<p>200 rows × 3 columns</p>\n",
       "</div>"
      ],
      "text/plain": [
       "           X1        X2  Classe\n",
       "0    2.197629  3.243409     1.0\n",
       "1    1.845987  2.070918     1.0\n",
       "2    1.654526  1.583036     1.0\n",
       "3    1.634602  1.935072     1.0\n",
       "4    2.714994  1.476406     1.0\n",
       "..        ...       ...     ...\n",
       "195  3.714006  3.916672     2.0\n",
       "196  4.052655  4.292886     2.0\n",
       "197  3.806286  3.354130     2.0\n",
       "198  2.659180  4.119112     2.0\n",
       "199  4.700047  4.155188     2.0\n",
       "\n",
       "[200 rows x 3 columns]"
      ]
     },
     "execution_count": 102,
     "metadata": {},
     "output_type": "execute_result"
    }
   ],
   "source": [
    "X.rename(columns={0:'X1',1:'X2',2:'Classe'}, inplace=True)\n",
    "X"
   ]
  },
  {
   "cell_type": "code",
   "execution_count": 103,
   "id": "fdd8544a",
   "metadata": {},
   "outputs": [],
   "source": [
    "Xaux = X.to_numpy()"
   ]
  },
  {
   "cell_type": "code",
   "execution_count": 104,
   "id": "c251d2b7",
   "metadata": {},
   "outputs": [],
   "source": [
    "XC1_train, XC1_test, yC1_train, yC1_test = train_test_split(Xaux[0:100,0:2],Xaux[0:100,2], test_size=0.1)\n",
    "XC2_train, XC2_test, yC2_train, yC2_test = train_test_split(Xaux[100:200,0:2],Xaux[100:200,2], test_size=0.1)"
   ]
  },
  {
   "cell_type": "code",
   "execution_count": 110,
   "id": "adf46d4d",
   "metadata": {},
   "outputs": [
    {
     "data": {
      "text/plain": [
       "(90, 2)"
      ]
     },
     "execution_count": 110,
     "metadata": {},
     "output_type": "execute_result"
    }
   ],
   "source": [
    "XC1_train.shape"
   ]
  },
  {
   "cell_type": "code",
   "execution_count": 113,
   "id": "bbec72b3",
   "metadata": {},
   "outputs": [
    {
     "data": {
      "text/plain": [
       "<matplotlib.legend.Legend at 0x7fb117233eb0>"
      ]
     },
     "execution_count": 113,
     "metadata": {},
     "output_type": "execute_result"
    },
    {
     "data": {
      "image/png": "[encoded data removed]",
      "text/plain": [
       "<Figure size 432x288 with 1 Axes>"
      ]
     },
     "metadata": {
      "needs_background": "light"
     },
     "output_type": "display_data"
    }
   ],
   "source": [
    "plt.scatter(XC1_train[:,0],XC1_train[:,1], color='red', label='Classe 1 de treinamento')\n",
    "plt.scatter(XC2_train[:,0],XC2_train[:,1], color='blue', label='Classe 2 de treinamento')\n",
    "plt.xlabel('Eixo X')\n",
    "plt.ylabel('Eixo y')\n",
    "plt.legend()"
   ]
  },
  {
   "cell_type": "code",
   "execution_count": 114,
   "id": "36ac5ea1",
   "metadata": {},
   "outputs": [
    {
     "data": {
      "text/plain": [
       "<matplotlib.legend.Legend at 0x7fb117d47130>"
      ]
     },
     "execution_count": 114,
     "metadata": {},
     "output_type": "execute_result"
    },
    {
     "data": {
      "image/png": "[encoded data removed]",
      "text/plain": [
       "<Figure size 432x288 with 1 Axes>"
      ]
     },
     "metadata": {
      "needs_background": "light"
     },
     "output_type": "display_data"
    }
   ],
   "source": [
    "plt.scatter(XC1_test[:,0],XC1_test[:,1], color='red', label='Classe 1 de teste')\n",
    "plt.scatter(XC2_test[:,0],XC2_test[:,1], color='blue', label='Classe 2 de teste')\n",
    "plt.xlabel('Eixo X')\n",
    "plt.ylabel('Eixo y')\n",
    "plt.legend()"
   ]
  },
  {
   "cell_type": "code",
   "execution_count": 115,
   "id": "39c588b6",
   "metadata": {},
   "outputs": [
    {
     "data": {
      "text/plain": [
       "array([1.47640565, 2.2635466 , 2.3354526 , 2.7419959 , 1.95181969,\n",
       "       2.01464623, 1.58303579, 1.61542667, 2.36145862, 2.19280212,\n",
       "       2.02967623, 2.04926878, 2.01463439, 3.24340892, 1.7144512 ,\n",
       "       2.65620139, 3.22573948, 1.70399093, 0.94638084, 1.73217822,\n",
       "       2.30006241, 1.85028146, 2.07091778, 2.30652242, 2.23856145,\n",
       "       3.10817434, 2.16778954, 2.1122948 , 1.16675388, 1.49420936,\n",
       "       1.99681933, 1.12877135, 2.04322594, 1.57547032, 2.07043685,\n",
       "       1.81564423, 1.52213058, 2.58449867, 1.9361981 , 2.10041661,\n",
       "       1.92248867, 2.46307281, 2.46762001, 3.08305777, 1.49660706,\n",
       "       1.86080171, 1.50923289, 2.46931021, 1.4645768 , 2.34928274,\n",
       "       1.86370656, 2.36648137, 1.8986735 , 1.51452422, 2.36000849,\n",
       "       2.90346112, 1.61164279, 1.45542635, 1.87313652, 2.3423202 ,\n",
       "       2.15985085, 3.05255586, 2.03798052, 1.94762807, 2.05504455,\n",
       "       1.36016551, 2.02478265, 2.3960437 , 2.00616614, 1.61962478,\n",
       "       2.38442122, 1.83720528, 1.99445098, 2.30968098, 2.12051238,\n",
       "       2.62244744, 2.36988538, 2.18164387, 2.58124014, 1.93507185,\n",
       "       2.88067588, 1.14579384, 1.70866861, 2.02653106, 2.08248106,\n",
       "       2.22627488, 2.02156531, 2.08638814, 2.44172243, 1.58061389])"
      ]
     },
     "execution_count": 115,
     "metadata": {},
     "output_type": "execute_result"
    }
   ],
   "source": [
    "XC1_train[:,1]"
   ]
  },
  {
   "cell_type": "code",
   "execution_count": 116,
   "id": "98abb4db",
   "metadata": {},
   "outputs": [],
   "source": [
    "u1C1 = np.mean(XC1_train[:,0])\n",
    "u2C1 = np.mean(XC1_train[:,1])\n",
    "std1C1 = np.std(XC1_train[:,0])\n",
    "std2C1 = np.std(XC1_train[:,1])"
   ]
  },
  {
   "cell_type": "code",
   "execution_count": 117,
   "id": "6c326f12",
   "metadata": {},
   "outputs": [
    {
     "data": {
      "text/plain": [
       "(90, 2)"
      ]
     },
     "execution_count": 117,
     "metadata": {},
     "output_type": "execute_result"
    }
   ],
   "source": [
    "XC1_train.shape"
   ]
  },
  {
   "cell_type": "code",
   "execution_count": 118,
   "id": "5fefc647",
   "metadata": {},
   "outputs": [
    {
     "data": {
      "text/plain": [
       "-0.04589981966931427"
      ]
     },
     "execution_count": 118,
     "metadata": {},
     "output_type": "execute_result"
    }
   ],
   "source": [
    "covC1 = np.cov(XC1_train[:,0],XC1_train[:,1])[0][1]\n",
    "covC1"
   ]
  },
  {
   "cell_type": "code",
   "execution_count": 119,
   "id": "8bc5adc5",
   "metadata": {},
   "outputs": [
    {
     "data": {
      "text/plain": [
       "-0.21151422384262078"
      ]
     },
     "execution_count": 119,
     "metadata": {},
     "output_type": "execute_result"
    }
   ],
   "source": [
    "pC1 = covC1/(np.sqrt(np.square(std1C1) *np.square(std2C1)))\n",
    "pC1"
   ]
  },
  {
   "cell_type": "code",
   "execution_count": 120,
   "id": "98cbc43e",
   "metadata": {},
   "outputs": [
    {
     "data": {
      "text/plain": [
       "-0.21151422384262078"
      ]
     },
     "execution_count": 120,
     "metadata": {},
     "output_type": "execute_result"
    }
   ],
   "source": [
    "u1C2 = np.mean(XC2_train[:,0])\n",
    "u2C2 = np.mean(XC2_train[:,1])\n",
    "std1C2 = np.std(XC2_train[:,0])\n",
    "std2C2 = np.std(XC2_train[:,1])\n",
    "covC2 = np.cov(XC1_train[:,0],XC1_train[:,1])[0][1]\n",
    "pC2 = covC1/(np.sqrt(np.square(std1C1) *np.square(std2C1)))\n",
    "pC2"
   ]
  },
  {
   "cell_type": "code",
   "execution_count": 121,
   "id": "5f3fccce",
   "metadata": {},
   "outputs": [],
   "source": [
    "def funcaoProbabilidade(u1,u2,std1,std2,p,xu1, xu2):\n",
    "    \n",
    "    A = 1/(2*np.pi * std1*std2 * np.sqrt(1 - np.square(p)) )\n",
    "    \n",
    "    B = -1/(2*(1-p**2))\n",
    "    C = ((xu1 - u1)/std1)**2\n",
    "    D = (-2*p)*((xu1 - u1)/std1) *((xu2 - u2)/std2)\n",
    "    E =  ((xu2 - u2)/std2)**2\n",
    "    \n",
    "    F = np.exp(B*(C + D + E))\n",
    "    \n",
    "    G = A * F\n",
    "    \n",
    "    return G"
   ]
  },
  {
   "cell_type": "code",
   "execution_count": 122,
   "id": "6387eec5",
   "metadata": {},
   "outputs": [
    {
     "data": {
      "text/plain": [
       "0.7352830788388666"
      ]
     },
     "execution_count": 122,
     "metadata": {},
     "output_type": "execute_result"
    }
   ],
   "source": [
    "funcaoProbabilidade(u1C1,u2C1,std1C1,std2C1,pC1,2,2)"
   ]
  },
  {
   "cell_type": "code",
   "execution_count": 123,
   "id": "26d34633",
   "metadata": {},
   "outputs": [
    {
     "data": {
      "text/plain": [
       "1.1638013414153575e-09"
      ]
     },
     "execution_count": 123,
     "metadata": {},
     "output_type": "execute_result"
    }
   ],
   "source": [
    "funcaoProbabilidade(u1C2,u2C2,std1C2,std2C2,pC2,2,2)"
   ]
  },
  {
   "cell_type": "code",
   "execution_count": 124,
   "id": "b2a7d7fc",
   "metadata": {},
   "outputs": [
    {
     "data": {
      "text/plain": [
       "(0.5, 0.5)"
      ]
     },
     "execution_count": 124,
     "metadata": {},
     "output_type": "execute_result"
    }
   ],
   "source": [
    "PC1 = XC1_train.shape[0]/(XC1_train.shape[0] + XC2_train.shape[0])\n",
    "PC2 = XC2_train.shape[0]/(XC1_train.shape[0] + XC2_train.shape[0])\n",
    "\n",
    "PC1,PC2"
   ]
  },
  {
   "cell_type": "code",
   "execution_count": 125,
   "id": "0c45510f",
   "metadata": {},
   "outputs": [
    {
     "data": {
      "text/plain": [
       "10"
      ]
     },
     "execution_count": 125,
     "metadata": {},
     "output_type": "execute_result"
    }
   ],
   "source": [
    "XC1_test.shape[0]"
   ]
  },
  {
   "cell_type": "code",
   "execution_count": 151,
   "id": "13b5cea1",
   "metadata": {},
   "outputs": [],
   "source": [
    "classeAproxC1 = np.zeros(10)\n",
    "\n",
    "for i in range(XC1_test.shape[0]):\n",
    "    probC1 = funcaoProbabilidade(u1C1,u2C1,std1C1,std2C1,pC1,XC1_test[i,0],XC1_test[i,1])\n",
    "    probC2 = funcaoProbabilidade(u1C2,u2C2,std1C2,std2C2,pC2,XC1_test[i,0],XC1_test[i,1])\n",
    "    \n",
    "    K = (probC1 *PC1)/(probC2 *PC2)\n",
    "\n",
    "    \n",
    "    if (K >= 1): \n",
    "        classeAproxC1[i] = 1\n",
    "    else:\n",
    "        classeAproxC1[i] = 2\n",
    "        \n",
    "\n",
    "classeAproxC2 = np.zeros(10)\n",
    "\n",
    "for i in range(XC2_test.shape[0]):\n",
    "    probC1 = funcaoProbabilidade(u1C1,u2C1,std1C1,std2C1,pC1,XC2_test[i,0],XC2_test[i,1])\n",
    "    probC2 = funcaoProbabilidade(u1C2,u2C2,std1C2,std2C2,pC2,XC2_test[i,0],XC2_test[i,1])\n",
    "    \n",
    "    K = (probC1 *PC1)/(probC2 *PC2)\n",
    "    \n",
    "    if (K >= 1): \n",
    "        classeAproxC2[i] = 1\n",
    "    else:\n",
    "        classeAproxC2[i] = 2\n",
    "    "
   ]
  },
  {
   "cell_type": "code",
   "execution_count": 152,
   "id": "384fb000",
   "metadata": {},
   "outputs": [],
   "source": [
    "colorsAproxC2 = []\n",
    "for i in range(XC1_test.shape[0]):\n",
    "    if classeAproxC2[i] == 1:\n",
    "        colorsAproxC2.append('red')\n",
    "    if classeAproxC2[i] == 2:\n",
    "        colorsAproxC2.append('blue')\n",
    "        \n",
    "        \n",
    "colorsAproxC1 = []\n",
    "for i in range(XC1_test.shape[0]):\n",
    "    if classeAproxC1[i] == 1:\n",
    "        colorsAproxC1.append('red')\n",
    "    if classeAproxC1[i] == 2:\n",
    "        colorsAproxC1.append('blue')"
   ]
  },
  {
   "cell_type": "code",
   "execution_count": 153,
   "id": "ff37bb0c",
   "metadata": {},
   "outputs": [
    {
     "data": {
      "text/plain": [
       "1.0"
      ]
     },
     "execution_count": 153,
     "metadata": {},
     "output_type": "execute_result"
    }
   ],
   "source": [
    "accuracy_score(classeAproxC1, yC1_test)"
   ]
  },
  {
   "cell_type": "code",
   "execution_count": 154,
   "id": "fe604393",
   "metadata": {},
   "outputs": [
    {
     "data": {
      "text/plain": [
       "1.0"
      ]
     },
     "execution_count": 154,
     "metadata": {},
     "output_type": "execute_result"
    }
   ],
   "source": [
    "accuracy_score(classeAproxC2, yC2_test)"
   ]
  },
  {
   "cell_type": "code",
   "execution_count": 155,
   "id": "cdfe0cd7",
   "metadata": {},
   "outputs": [],
   "source": [
    "grid = []\n",
    "for i in np.arange(1,6,0.01):\n",
    "    for j in np.arange(1,6,0.01):\n",
    "        grid.append(np.array((i,j)))\n",
    "        "
   ]
  },
  {
   "cell_type": "code",
   "execution_count": 156,
   "id": "f26efed0",
   "metadata": {},
   "outputs": [
    {
     "data": {
      "text/plain": [
       "array([[1.  , 1.  ],\n",
       "       [1.  , 1.01],\n",
       "       [1.  , 1.02],\n",
       "       ...,\n",
       "       [5.99, 5.97],\n",
       "       [5.99, 5.98],\n",
       "       [5.99, 5.99]])"
      ]
     },
     "execution_count": 156,
     "metadata": {},
     "output_type": "execute_result"
    }
   ],
   "source": [
    "grid = pd.DataFrame(grid).to_numpy()\n",
    "grid"
   ]
  },
  {
   "cell_type": "code",
   "execution_count": 157,
   "id": "fabbcecc",
   "metadata": {},
   "outputs": [
    {
     "data": {
      "text/plain": [
       "(250000, 2)"
      ]
     },
     "execution_count": 157,
     "metadata": {},
     "output_type": "execute_result"
    }
   ],
   "source": [
    "grid.shape"
   ]
  },
  {
   "cell_type": "code",
   "execution_count": 158,
   "id": "2ed451bb",
   "metadata": {},
   "outputs": [],
   "source": [
    "classeAproxGrid = np.zeros(grid.shape[0])\n",
    "vetorProbC1 = np.zeros(grid.shape[0])\n",
    "vetorProbC2 = np.zeros(grid.shape[0])\n",
    "\n",
    "for i in range(grid.shape[0]):\n",
    "    probC1 = funcaoProbabilidade(u1C1,u2C1,std1C1,std2C1,pC1,grid[i,0],grid[i,1])\n",
    "    probC2 = funcaoProbabilidade(u1C2,u2C2,std1C2,std2C2,pC2,grid[i,0],grid[i,1])\n",
    "    \n",
    "    vetorProbC1[i] = probC1\n",
    "    vetorProbC2[i] = probC2\n",
    "    \n",
    "    K = (probC1 *PC1)/(probC2 *PC2)\n",
    "    \n",
    "    if (K >= 1): \n",
    "        classeAproxGrid[i] = 1\n",
    "    else:\n",
    "        classeAproxGrid[i] = 2"
   ]
  },
  {
   "cell_type": "code",
   "execution_count": 159,
   "id": "701743c2",
   "metadata": {},
   "outputs": [],
   "source": [
    "colorsTest = []\n",
    "for i in range(grid.shape[0]):\n",
    "    if classeAproxGrid[i] == 1:\n",
    "        colorsTest.append('lightcoral')\n",
    "    if classeAproxGrid[i] == 2:\n",
    "        colorsTest.append('cornflowerblue')"
   ]
  },
  {
   "cell_type": "code",
   "execution_count": 162,
   "id": "76686566",
   "metadata": {},
   "outputs": [
    {
     "data": {
      "text/plain": [
       "<matplotlib.collections.PathCollection at 0x7fb116fd4d00>"
      ]
     },
     "execution_count": 162,
     "metadata": {},
     "output_type": "execute_result"
    },
    {
     "data": {
      "image/png": "[encoded data removed]",
      "text/plain": [
       "<Figure size 432x288 with 1 Axes>"
      ]
     },
     "metadata": {
      "needs_background": "light"
     },
     "output_type": "display_data"
    }
   ],
   "source": [
    "plt.scatter (grid[:,0],grid[:,1],color=np.array(colorsTest))\n",
    "plt.scatter(XC1_train[:,0],XC1_train[:,1], color='red')\n",
    "plt.scatter(XC2_train[:,0],XC2_train[:,1], color='blue')\n",
    "plt.scatter(XC1_test[:,0],XC1_test[:,1], color='red')\n",
    "plt.scatter(XC2_test[:,0],XC2_test[:,1], color='blue')"
   ]
  },
  {
   "cell_type": "markdown",
   "id": "8fc62be7",
   "metadata": {},
   "source": [
    "# Exercicio 2"
   ]
  },
  {
   "cell_type": "code",
   "execution_count": 163,
   "id": "c37adfae",
   "metadata": {},
   "outputs": [
    {
     "data": {
      "text/plain": [
       "<matplotlib.legend.Legend at 0x7fb116f917f0>"
      ]
     },
     "execution_count": 163,
     "metadata": {},
     "output_type": "execute_result"
    },
    {
     "data": {
      "image/png": "[encoded data removed]",
      "text/plain": [
       "<Figure size 432x288 with 1 Axes>"
      ]
     },
     "metadata": {
      "needs_background": "light"
     },
     "output_type": "display_data"
    }
   ],
   "source": [
    "X1 = np.random.normal(loc=-1,scale=2, size=(100))\n",
    "y1 = np.random.normal(loc=-1,scale=2,size=(100))\n",
    "\n",
    "X2 = np.random.normal(loc=6,scale=2, size=(100))\n",
    "y2 = np.random.normal(loc=-1,scale=2,size=(100))\n",
    "\n",
    "X3 = np.random.normal(loc=6,scale=2, size=(100))\n",
    "y3 = np.random.normal(loc=6,scale=2,size=(100))\n",
    "\n",
    "X4 = np.random.normal(loc=-1,scale=2, size=(100))\n",
    "y4 = np.random.normal(loc=6,scale=2,size=(100))\n",
    "\n",
    "\n",
    "X1 = np.append(X1,X3)\n",
    "X2 = np.append(X2,X4)\n",
    "\n",
    "y1 = np.append(y1,y3)\n",
    "y2 = np.append(y2,y4)\n",
    "\n",
    "\n",
    "\n",
    "\n",
    "plt.scatter(X1,y1, color='green', label='Classe 1')\n",
    "plt.scatter(X2,y2, color='blue', label='Classe 2')\n",
    "plt.xlabel('Eixo X')\n",
    "plt.ylabel('Eixo y')\n",
    "plt.legend()"
   ]
  },
  {
   "cell_type": "code",
   "execution_count": 164,
   "id": "555d3415",
   "metadata": {},
   "outputs": [
    {
     "data": {
      "text/html": [
       "<div>\n",
       "<style scoped>\n",
       "    .dataframe tbody tr th:only-of-type {\n",
       "        vertical-align: middle;\n",
       "    }\n",
       "\n",
       "    .dataframe tbody tr th {\n",
       "        vertical-align: top;\n",
       "    }\n",
       "\n",
       "    .dataframe thead th {\n",
       "        text-align: right;\n",
       "    }\n",
       "</style>\n",
       "<table border=\"1\" class=\"dataframe\">\n",
       "  <thead>\n",
       "    <tr style=\"text-align: right;\">\n",
       "      <th></th>\n",
       "      <th>X1</th>\n",
       "      <th>X2</th>\n",
       "      <th>Classe</th>\n",
       "    </tr>\n",
       "  </thead>\n",
       "  <tbody>\n",
       "    <tr>\n",
       "      <th>0</th>\n",
       "      <td>1.211265</td>\n",
       "      <td>1.122997</td>\n",
       "      <td>1.0</td>\n",
       "    </tr>\n",
       "    <tr>\n",
       "      <th>1</th>\n",
       "      <td>-1.721209</td>\n",
       "      <td>-0.238138</td>\n",
       "      <td>1.0</td>\n",
       "    </tr>\n",
       "    <tr>\n",
       "      <th>2</th>\n",
       "      <td>-3.282321</td>\n",
       "      <td>-3.819337</td>\n",
       "      <td>1.0</td>\n",
       "    </tr>\n",
       "    <tr>\n",
       "      <th>3</th>\n",
       "      <td>-1.720171</td>\n",
       "      <td>2.908971</td>\n",
       "      <td>1.0</td>\n",
       "    </tr>\n",
       "    <tr>\n",
       "      <th>4</th>\n",
       "      <td>-1.188257</td>\n",
       "      <td>-0.954761</td>\n",
       "      <td>1.0</td>\n",
       "    </tr>\n",
       "    <tr>\n",
       "      <th>...</th>\n",
       "      <td>...</td>\n",
       "      <td>...</td>\n",
       "      <td>...</td>\n",
       "    </tr>\n",
       "    <tr>\n",
       "      <th>395</th>\n",
       "      <td>0.270120</td>\n",
       "      <td>5.593064</td>\n",
       "      <td>2.0</td>\n",
       "    </tr>\n",
       "    <tr>\n",
       "      <th>396</th>\n",
       "      <td>-5.032636</td>\n",
       "      <td>2.559752</td>\n",
       "      <td>2.0</td>\n",
       "    </tr>\n",
       "    <tr>\n",
       "      <th>397</th>\n",
       "      <td>-4.103176</td>\n",
       "      <td>3.566879</td>\n",
       "      <td>2.0</td>\n",
       "    </tr>\n",
       "    <tr>\n",
       "      <th>398</th>\n",
       "      <td>-0.778347</td>\n",
       "      <td>1.529654</td>\n",
       "      <td>2.0</td>\n",
       "    </tr>\n",
       "    <tr>\n",
       "      <th>399</th>\n",
       "      <td>-0.293384</td>\n",
       "      <td>9.658218</td>\n",
       "      <td>2.0</td>\n",
       "    </tr>\n",
       "  </tbody>\n",
       "</table>\n",
       "<p>400 rows × 3 columns</p>\n",
       "</div>"
      ],
      "text/plain": [
       "           X1        X2  Classe\n",
       "0    1.211265  1.122997     1.0\n",
       "1   -1.721209 -0.238138     1.0\n",
       "2   -3.282321 -3.819337     1.0\n",
       "3   -1.720171  2.908971     1.0\n",
       "4   -1.188257 -0.954761     1.0\n",
       "..        ...       ...     ...\n",
       "395  0.270120  5.593064     2.0\n",
       "396 -5.032636  2.559752     2.0\n",
       "397 -4.103176  3.566879     2.0\n",
       "398 -0.778347  1.529654     2.0\n",
       "399 -0.293384  9.658218     2.0\n",
       "\n",
       "[400 rows x 3 columns]"
      ]
     },
     "execution_count": 164,
     "metadata": {},
     "output_type": "execute_result"
    }
   ],
   "source": [
    "X = np.zeros((400,3))\n",
    "X[:,0] = np.append(X1,X2)\n",
    "X[:,1] = np.append(y1,y2)\n",
    "f = lambda i:1 if i <200 else 2 \n",
    "classe = [f(i) for i in range(400)]\n",
    "X[:,2] = classe\n",
    "X = pd.DataFrame(X)\n",
    "X.rename(columns={0:'X1',1:'X2',2:'Classe'}, inplace=True)\n",
    "X"
   ]
  },
  {
   "cell_type": "code",
   "execution_count": 165,
   "id": "1fa39669",
   "metadata": {},
   "outputs": [
    {
     "data": {
      "text/plain": [
       "array([2.71499352, 2.38697823, 1.80153876, 1.67457233, 1.76494797,\n",
       "       1.30247736, 1.65452644, 1.97395893, 1.93665146, 1.86089054,\n",
       "       2.35662897, 2.68394717, 2.40153342, 2.19762869, 2.32857324,\n",
       "       2.14079223, 1.96965657, 2.72196669, 1.75761835, 1.88282709,\n",
       "       2.43490536, 2.27220679, 1.84598738, 1.44477281, 2.47192746,\n",
       "       2.14371505, 2.34430074, 1.01201074, 2.55900999, 3.03691843,\n",
       "       2.34300623, 2.32821332, 2.33094181, 1.88325998, 1.75074209,\n",
       "       2.6376191 , 2.32157796, 2.40247006, 2.27878535, 1.85059652,\n",
       "       2.0209564 , 1.06190301, 1.77382213, 1.99185807, 2.0665582 ,\n",
       "       2.78822542, 2.33817899, 1.69391051, 2.03783089, 1.51850319,\n",
       "       2.65282958, 2.56559046, 1.52116304, 1.96568847, 2.60028608,\n",
       "       2.10721682, 2.35728337, 2.06605553, 1.86488896, 1.78204398,\n",
       "       1.33655678, 1.8763974 , 1.06795271, 1.70157933, 1.29703713,\n",
       "       2.7709327 , 2.49843117, 2.81172823, 1.42234535, 1.68648708,\n",
       "       1.2086038 , 2.02736828, 2.24803984, 2.83353027, 2.21091943,\n",
       "       1.75604534, 1.43009776, 2.11613563, 1.66141149, 1.63460207,\n",
       "       1.3308998 , 2.72229219, 2.03157204, 1.4787365 , 2.35064203,\n",
       "       2.16243597, 2.4356005 , 2.69282586, 2.45550729, 1.43009009])"
      ]
     },
     "execution_count": 165,
     "metadata": {},
     "output_type": "execute_result"
    }
   ],
   "source": [
    "XC1_train[:,0]"
   ]
  },
  {
   "cell_type": "code",
   "execution_count": 166,
   "id": "e9f06876",
   "metadata": {},
   "outputs": [
    {
     "data": {
      "text/plain": [
       "(0.5, 0.5)"
      ]
     },
     "execution_count": 166,
     "metadata": {},
     "output_type": "execute_result"
    }
   ],
   "source": [
    "Xaux = X.to_numpy()\n",
    "XC1_train, XC1_test, yC1_train, yC1_test = train_test_split(Xaux[0:200,0:2],Xaux[0:200,2], test_size=0.1)\n",
    "XC2_train, XC2_test, yC2_train, yC2_test = train_test_split(Xaux[200:400,0:2],Xaux[200:400,2], test_size=0.1)\n",
    "u1C1 = np.mean(XC1_train[:,0])\n",
    "u2C1 = np.mean(XC1_train[:,1])\n",
    "std1C1 = np.std(XC1_train[:,0])\n",
    "std2C1 = np.std(XC1_train[:,1])\n",
    "covC1 = np.cov(XC1_train[:,0],XC1_train[:,1])[0][1]\n",
    "pC1 = covC1/(np.sqrt(np.square(std1C1) *np.square(std2C1)))\n",
    "\n",
    "u1C2 = np.mean(XC2_train[:,0])\n",
    "u2C2 = np.mean(XC2_train[:,1])\n",
    "std1C2 = np.std(XC2_train[:,0])\n",
    "std2C2 = np.std(XC2_train[:,1])\n",
    "covC2 = np.cov(XC2_train[:,0],XC2_train[:,1])[0][1]\n",
    "pC2 = covC2/(np.sqrt(np.square(std1C2) *np.square(std2C2)))\n",
    "\n",
    "PC1 = XC1_train.shape[0]/(XC1_train.shape[0] + XC2_train.shape[0])\n",
    "PC2 = XC2_train.shape[0]/(XC1_train.shape[0] + XC2_train.shape[0])\n",
    "\n",
    "PC1,PC2"
   ]
  },
  {
   "cell_type": "code",
   "execution_count": 167,
   "id": "8435da31",
   "metadata": {},
   "outputs": [
    {
     "data": {
      "text/plain": [
       "(20, 2)"
      ]
     },
     "execution_count": 167,
     "metadata": {},
     "output_type": "execute_result"
    }
   ],
   "source": [
    "XC1_test.shape"
   ]
  },
  {
   "cell_type": "code",
   "execution_count": 168,
   "id": "66d79984",
   "metadata": {},
   "outputs": [],
   "source": [
    "classeAproxC1 = np.zeros(XC1_test.shape[0])\n",
    "\n",
    "for i in range(XC1_test.shape[0]):\n",
    "    probC1 = funcaoProbabilidade(u1C1,u2C1,std1C1,std2C1,pC1,XC1_test[i,0],XC1_test[i,1])\n",
    "    probC2 = funcaoProbabilidade(u1C2,u2C2,std1C2,std2C2,pC2,XC1_test[i,0],XC1_test[i,1])\n",
    "    \n",
    "    K = (probC1 *PC1)/(probC2 *PC2)\n",
    "    \n",
    "    if (K >= 1): \n",
    "        classeAproxC1[i] = 1\n",
    "    else:\n",
    "        classeAproxC1[i] = 2\n",
    "        \n",
    "\n",
    "classeAproxC2 = np.zeros(XC2_test.shape[0])\n",
    "\n",
    "for i in range(XC2_test.shape[0]):\n",
    "    probC1 = funcaoProbabilidade(u1C1,u2C1,std1C1,std2C1,pC1,XC2_test[i,0],XC2_test[i,1])\n",
    "    probC2 = funcaoProbabilidade(u1C2,u2C2,std1C2,std2C2,pC2,XC2_test[i,0],XC2_test[i,1])\n",
    "    \n",
    "    K = (probC1 *PC1)/(probC2 *PC2)\n",
    "    \n",
    "    if (K >= 1): \n",
    "        classeAproxC2[i] = 1\n",
    "    else:\n",
    "        classeAproxC2[i] = 2\n",
    "    "
   ]
  },
  {
   "cell_type": "code",
   "execution_count": 169,
   "id": "b4f63a91",
   "metadata": {},
   "outputs": [
    {
     "data": {
      "text/plain": [
       "0.9"
      ]
     },
     "execution_count": 169,
     "metadata": {},
     "output_type": "execute_result"
    }
   ],
   "source": [
    "accuracy_score(classeAproxC1, yC1_test)"
   ]
  },
  {
   "cell_type": "code",
   "execution_count": 170,
   "id": "93203771",
   "metadata": {},
   "outputs": [
    {
     "data": {
      "text/plain": [
       "1.0"
      ]
     },
     "execution_count": 170,
     "metadata": {},
     "output_type": "execute_result"
    }
   ],
   "source": [
    "accuracy_score(classeAproxC2, yC2_test)"
   ]
  },
  {
   "cell_type": "code",
   "execution_count": 171,
   "id": "7818a2c3",
   "metadata": {},
   "outputs": [
    {
     "data": {
      "text/plain": [
       "<matplotlib.collections.PathCollection at 0x7fb11f831a30>"
      ]
     },
     "execution_count": 171,
     "metadata": {},
     "output_type": "execute_result"
    },
    {
     "data": {
      "image/png": "[encoded data removed]",
      "text/plain": [
       "<Figure size 432x288 with 1 Axes>"
      ]
     },
     "metadata": {
      "needs_background": "light"
     },
     "output_type": "display_data"
    }
   ],
   "source": [
    "grid = []\n",
    "for i in np.arange(-7,12,0.1):\n",
    "    for j in np.arange(-6,12,0.1):\n",
    "        grid.append(np.array((i,j)))\n",
    "\n",
    "grid = pd.DataFrame(grid).to_numpy()\n",
    "classeAproxGrid = np.zeros(grid.shape[0])\n",
    "\n",
    "for i in range(grid.shape[0]):\n",
    "    probC1 = funcaoProbabilidade(u1C1,u2C1,std1C1,std2C1,pC1,grid[i,0],grid[i,1])\n",
    "    probC2 = funcaoProbabilidade(u1C2,u2C2,std1C2,std2C2,pC2,grid[i,0],grid[i,1])\n",
    "    \n",
    "    K = (probC1 *PC1)/(probC2 *PC2)\n",
    "    \n",
    "    if (K >= 1): \n",
    "        classeAproxGrid[i] = 1\n",
    "    else:\n",
    "        classeAproxGrid[i] = 2\n",
    "\n",
    "colorsTest = []\n",
    "for i in range(grid.shape[0]):\n",
    "    if classeAproxGrid[i] == 1:\n",
    "        colorsTest.append('limegreen')\n",
    "    if classeAproxGrid[i] == 2:\n",
    "        colorsTest.append('cornflowerblue')\n",
    "\n",
    "plt.scatter (grid[:,0],grid[:,1],color=np.array(colorsTest))\n",
    "plt.scatter(XC1_test[:,0],XC1_test[:,1], color='green')\n",
    "plt.scatter(XC2_test[:,0],XC2_test[:,1], color='blue')\n",
    "plt.scatter(XC1_train[:,0],XC1_train[:,1], color='green')\n",
    "plt.scatter(XC2_train[:,0],XC2_train[:,1], color='blue')"
   ]
  },
  {
   "cell_type": "code",
   "execution_count": null,
   "id": "ac9be369",
   "metadata": {},
   "outputs": [],
   "source": []
  }
 ],
 "metadata": {
  "kernelspec": {
   "display_name": "Python 3 (ipykernel)",
   "language": "python",
   "name": "python3"
  },
  "language_info": {
   "codemirror_mode": {
    "name": "ipython",
    "version": 3
   },
   "file_extension": ".py",
   "mimetype": "text/x-python",
   "name": "python",
   "nbconvert_exporter": "python",
   "pygments_lexer": "ipython3",
   "version": "3.8.8"
  }
 },
 "nbformat": 4,
 "nbformat_minor": 5
}
